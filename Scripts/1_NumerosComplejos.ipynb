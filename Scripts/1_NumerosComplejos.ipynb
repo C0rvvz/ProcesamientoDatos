{
 "cells": [
  {
   "cell_type": "markdown",
   "metadata": {},
   "source": [
    "# Números complejos"
   ]
  },
  {
   "cell_type": "markdown",
   "metadata": {},
   "source": [
    "Python por defecto interpreta los números complejos cuando usamos la letra j para denotar la parte imaginaria. Podemos entonces crear números complejos escribiendo el número directamente:"
   ]
  },
  {
   "cell_type": "code",
   "execution_count": 2,
   "metadata": {},
   "outputs": [],
   "source": [
    "z1 = 4 + 1j\n",
    "z2= 2-2j\n",
    "z3=-3j"
   ]
  },
  {
   "cell_type": "code",
   "execution_count": null,
   "metadata": {},
   "outputs": [],
   "source": [
    "print(\"Número complejo z1: \",z1)\n",
    "print(\"Número complejo z1: \",z2)\n",
    "print(\"Número complejo z1: \",z3)"
   ]
  },
  {
   "cell_type": "code",
   "execution_count": 26,
   "metadata": {},
   "outputs": [
    {
     "name": "stdout",
     "output_type": "stream",
     "text": [
      "Parte imaginaria 1.0\n",
      "Parte real 2.0\n"
     ]
    }
   ],
   "source": [
    "print(\"Parte imaginaria\", z1.imag)\n",
    "print(\"Parte real\", z2.real)"
   ]
  },
  {
   "cell_type": "markdown",
   "metadata": {},
   "source": [
    "## Veamos las operaciones básicas con números complejos"
   ]
  },
  {
   "cell_type": "markdown",
   "metadata": {},
   "source": [
    "### suma"
   ]
  },
  {
   "cell_type": "code",
   "execution_count": 16,
   "metadata": {},
   "outputs": [
    {
     "data": {
      "text/plain": [
       "(6-1j)"
      ]
     },
     "execution_count": 16,
     "metadata": {},
     "output_type": "execute_result"
    }
   ],
   "source": [
    "z1+z2"
   ]
  },
  {
   "cell_type": "markdown",
   "metadata": {},
   "source": [
    "### resta"
   ]
  },
  {
   "cell_type": "code",
   "execution_count": 17,
   "metadata": {},
   "outputs": [
    {
     "data": {
      "text/plain": [
       "(-2-3j)"
      ]
     },
     "execution_count": 17,
     "metadata": {},
     "output_type": "execute_result"
    }
   ],
   "source": [
    "z2-z1"
   ]
  },
  {
   "cell_type": "markdown",
   "metadata": {},
   "source": [
    "### multiplicación"
   ]
  },
  {
   "cell_type": "code",
   "execution_count": 18,
   "metadata": {},
   "outputs": [
    {
     "data": {
      "text/plain": [
       "(10-6j)"
      ]
     },
     "execution_count": 18,
     "metadata": {},
     "output_type": "execute_result"
    }
   ],
   "source": [
    "z1*z2"
   ]
  },
  {
   "cell_type": "markdown",
   "metadata": {},
   "source": [
    "### división"
   ]
  },
  {
   "cell_type": "code",
   "execution_count": 19,
   "metadata": {},
   "outputs": [
    {
     "data": {
      "text/plain": [
       "(0.75+1.25j)"
      ]
     },
     "execution_count": 19,
     "metadata": {},
     "output_type": "execute_result"
    }
   ],
   "source": [
    "z1/z2"
   ]
  },
  {
   "cell_type": "markdown",
   "metadata": {},
   "source": [
    "### potencia"
   ]
  },
  {
   "cell_type": "code",
   "execution_count": 22,
   "metadata": {},
   "outputs": [
    {
     "data": {
      "text/plain": [
       "27j"
      ]
     },
     "execution_count": 22,
     "metadata": {},
     "output_type": "execute_result"
    }
   ],
   "source": [
    "z3**3"
   ]
  },
  {
   "cell_type": "markdown",
   "metadata": {},
   "source": [
    "### raíz"
   ]
  },
  {
   "cell_type": "code",
   "execution_count": 23,
   "metadata": {},
   "outputs": [
    {
     "data": {
      "text/plain": [
       "(1.2247448713915892-1.2247448713915892j)"
      ]
     },
     "execution_count": 23,
     "metadata": {},
     "output_type": "execute_result"
    }
   ],
   "source": [
    "z3**(1/2)"
   ]
  },
  {
   "cell_type": "markdown",
   "metadata": {},
   "source": [
    "## Conversión binómica/polar"
   ]
  },
  {
   "cell_type": "markdown",
   "metadata": {},
   "source": [
    "### Binómica a polar"
   ]
  },
  {
   "cell_type": "code",
   "execution_count": 39,
   "metadata": {},
   "outputs": [
    {
     "name": "stdout",
     "output_type": "stream",
     "text": [
      "Magnitud: 3.0\n",
      "Angulo: -90.0\n"
     ]
    }
   ],
   "source": [
    "import cmath\n",
    "\n",
    "magnitud, angulo = cmath.polar(z3)\n",
    "\n",
    "print(\"Magnitud:\", magnitud)\n",
    "print(\"Angulo:\", angulo*180/cmath.pi)"
   ]
  },
  {
   "cell_type": "markdown",
   "metadata": {},
   "source": [
    "### Polar a binómica"
   ]
  },
  {
   "cell_type": "code",
   "execution_count": 43,
   "metadata": {},
   "outputs": [
    {
     "name": "stdout",
     "output_type": "stream",
     "text": [
      "z= (1.2246467991473532e-16+2j)\n"
     ]
    }
   ],
   "source": [
    "import cmath\n",
    "magnitud=2\n",
    "angulo=cmath.pi/2\n",
    "z=cmath.rect(magnitud, angulo)\n",
    "\n",
    "print(\"z=\",z)"
   ]
  },
  {
   "cell_type": "markdown",
   "metadata": {},
   "source": [
    "### Gráfica polar de números complejos"
   ]
  },
  {
   "cell_type": "code",
   "execution_count": 49,
   "metadata": {},
   "outputs": [
    {
     "name": "stdout",
     "output_type": "stream",
     "text": [
      "Magnitud: 4.123105625617661\n",
      "Angulo: 14.036243467926477\n"
     ]
    },
    {
     "data": {
      "text/plain": [
       "[<matplotlib.lines.Line2D at 0x1ac6b0cce48>]"
      ]
     },
     "execution_count": 49,
     "metadata": {},
     "output_type": "execute_result"
    },
    {
     "data": {
      "image/png": "[encoded data removed]",
      "text/plain": [
       "<Figure size 432x288 with 1 Axes>"
      ]
     },
     "metadata": {
      "needs_background": "light"
     },
     "output_type": "display_data"
    }
   ],
   "source": [
    "import matplotlib.pyplot as plt\n",
    "import cmath\n",
    "\n",
    "magnitud, angulo = cmath.polar(z1)\n",
    "print(\"Magnitud:\", magnitud)\n",
    "print(\"Angulo:\", angulo*180/cmath.pi)\n",
    "plt.polar([0,angulo],[0,magnitud],marker='o')"
   ]
  },
  {
   "cell_type": "markdown",
   "metadata": {},
   "source": [
    "### Gráfica cartesiana de números complejos"
   ]
  },
  {
   "cell_type": "code",
   "execution_count": 4,
   "metadata": {},
   "outputs": [
    {
     "data": {
      "image/png": "[encoded data removed]",
      "text/plain": [
       "<Figure size 432x288 with 1 Axes>"
      ]
     },
     "metadata": {
      "needs_background": "light"
     },
     "output_type": "display_data"
    }
   ],
   "source": [
    "import matplotlib.pyplot as plt\n",
    "\n",
    "def plotCartesiano(complejo, xymin=-5, xymax=5):\n",
    "    fix, ax = plt.subplots()\n",
    "    \n",
    "    #Dibuja el plano\n",
    "    ax.spines[\"left\"].set_position(\"zero\")\n",
    "    ax.spines[\"top\"].set_position(\"zero\")\n",
    "    ax.spines[\"right\"].set_color(\"none\")\n",
    "    ax.spines[\"bottom\"].set_color(\"none\")\n",
    "    \n",
    "    ax.set_xlim(xymin, xymax)\n",
    "    ax.set_ylim(xymin, xymax)\n",
    "    ax.grid()\n",
    "    \n",
    "    ax.scatter(complejo.real, complejo.imag)\n",
    "    plt.show()\n",
    "\n",
    "plotCartesiano(z1)"
   ]
  },
  {
   "cell_type": "markdown",
   "metadata": {},
   "source": [
    "### Taller\n",
    "\n",
    "Verificar los resultados encontrados en el taller de números complejos donde:\n",
    "\n",
    "+ z1=2+2j\n",
    "+ z2=-1+3j\n",
    "\n",
    "Realizar las operaciones\n",
    "\n",
    "* suma\n",
    "* resta\n",
    "* multiiplicación\n",
    "* división\n",
    "* z1 al cuadrado\n",
    "* raiz cúbica de z2\n",
    "* z1 al cubo más raíz cuadrada de z2\n"
   ]
  },
  {
   "cell_type": "code",
   "execution_count": 1,
   "metadata": {},
   "outputs": [],
   "source": [
    "z1=2+2j\n",
    "z2=-1+3j"
   ]
  },
  {
   "cell_type": "code",
   "execution_count": 10,
   "metadata": {},
   "outputs": [
    {
     "name": "stdout",
     "output_type": "stream",
     "text": [
      "El resultado es:  (-14.96022173994443+17.442615274452685j)\n"
     ]
    }
   ],
   "source": [
    "resultado = z1**3 + z2**(1/2)\n",
    "print(\"El resultado es: \", resultado)"
   ]
  },
  {
   "cell_type": "code",
   "execution_count": 12,
   "metadata": {},
   "outputs": [
    {
     "name": "stdout",
     "output_type": "stream",
     "text": [
      "Magnitud  3.1622776601683795\n",
      "Angulo  1.892546881191539\n"
     ]
    }
   ],
   "source": [
    "import cmath\n",
    "\n",
    "magnitud, angulo = cmath.polar(z2)\n",
    "print(\"Magnitud \", magnitud)\n",
    "print(\"Angulo \", angulo)"
   ]
  },
  {
   "cell_type": "code",
   "execution_count": 15,
   "metadata": {},
   "outputs": [],
   "source": [
    "z3=z1**3"
   ]
  },
  {
   "cell_type": "code",
   "execution_count": 16,
   "metadata": {},
   "outputs": [],
   "source": [
    "z4=z2**(1/2)"
   ]
  },
  {
   "cell_type": "code",
   "execution_count": 18,
   "metadata": {},
   "outputs": [
    {
     "name": "stdout",
     "output_type": "stream",
     "text": [
      "Magnitud: 22.627416997969522\n",
      "Angulo: 135.0\n",
      "Magnitud: 1.7782794100389228\n",
      "Angulo: 54.21747441146102\n",
      "Magnitud: 22.979405173347633\n",
      "Angulo: 130.61910610969312\n"
     ]
    },
    {
     "data": {
      "text/plain": [
       "[<matplotlib.lines.Line2D at 0x1db0120e730>]"
      ]
     },
     "execution_count": 18,
     "metadata": {},
     "output_type": "execute_result"
    },
    {
     "data": {
      "image/png": "[encoded data removed]",
      "text/plain": [
       "<Figure size 432x288 with 1 Axes>"
      ]
     },
     "metadata": {
      "needs_background": "light"
     },
     "output_type": "display_data"
    }
   ],
   "source": [
    "import matplotlib.pyplot as plt\n",
    "import cmath\n",
    "\n",
    "magnitud, angulo = cmath.polar(z3)\n",
    "print(\"Magnitud:\", magnitud)\n",
    "print(\"Angulo:\", angulo*180/cmath.pi)\n",
    "plt.polar([0,angulo],[0,magnitud],marker='o')\n",
    "\n",
    "magnitud, angulo = cmath.polar(z4)\n",
    "print(\"Magnitud:\", magnitud)\n",
    "print(\"Angulo:\", angulo*180/cmath.pi)\n",
    "plt.polar([0,angulo],[0,magnitud],marker='o')\n",
    "\n",
    "magnitud, angulo = cmath.polar(resultado)\n",
    "print(\"Magnitud:\", magnitud)\n",
    "print(\"Angulo:\", angulo*180/cmath.pi)\n",
    "plt.polar([0,angulo],[0,magnitud],marker='o')"
   ]
  },
  {
   "cell_type": "code",
   "execution_count": 6,
   "metadata": {},
   "outputs": [
    {
     "name": "stdout",
     "output_type": "stream",
     "text": [
      "Mi nùmero complejo: (-1+3j)\n",
      "Mi nùmero conjugado: (-1-3j)\n"
     ]
    }
   ],
   "source": [
    "import matplotlib.pyplot as plt\n",
    "import cmath\n",
    "\n",
    "z1=-1+3j\n",
    "z1c=z1.conjugate()\n",
    "print(\"Mi nùmero complejo:\",z1)\n",
    "print(\"Mi nùmero conjugado:\",z1c)"
   ]
  },
  {
   "cell_type": "code",
   "execution_count": 12,
   "metadata": {},
   "outputs": [
    {
     "name": "stdout",
     "output_type": "stream",
     "text": [
      "Magnitud: 3.1622776601683795\n",
      "Angulo: 108.43494882292202\n",
      "Magnitud: 3.1622776601683795\n",
      "Angulo: -108.43494882292202\n"
     ]
    }
   ],
   "source": [
    "magnitud, angulo = cmath.polar(z1)\n",
    "magnitudc, anguloc = cmath.polar(z1c)\n",
    "\n",
    "print(\"Magnitud:\", magnitud)\n",
    "print(\"Angulo:\", angulo*180/cmath.pi)\n",
    "print(\"Magnitud:\", magnitudc)\n",
    "print(\"Angulo:\", anguloc*180/cmath.pi)"
   ]
  },
  {
   "cell_type": "code",
   "execution_count": 13,
   "metadata": {},
   "outputs": [
    {
     "data": {
      "text/plain": [
       "[<matplotlib.lines.Line2D at 0x1a58f68f308>]"
      ]
     },
     "execution_count": 13,
     "metadata": {},
     "output_type": "execute_result"
    },
    {
     "data": {
      "image/png": "[encoded data removed]",
      "text/plain": [
       "<Figure size 432x288 with 1 Axes>"
      ]
     },
     "metadata": {
      "needs_background": "light"
     },
     "output_type": "display_data"
    }
   ],
   "source": [
    "plt.polar([0,angulo],[0,magnitud],marker='o')\n",
    "plt.polar([0,anguloc],[0,magnitudc],marker='o')"
   ]
  },
  {
   "cell_type": "code",
   "execution_count": 14,
   "metadata": {},
   "outputs": [
    {
     "data": {
      "text/plain": [
       "(-16+16j)"
      ]
     },
     "execution_count": 14,
     "metadata": {},
     "output_type": "execute_result"
    }
   ],
   "source": [
    "z1=2+2j\n",
    "z1**3"
   ]
  },
  {
   "cell_type": "code",
   "execution_count": 15,
   "metadata": {},
   "outputs": [
    {
     "data": {
      "text/plain": [
       "(1.0397782600555703+1.442615274452683j)"
      ]
     },
     "execution_count": 15,
     "metadata": {},
     "output_type": "execute_result"
    }
   ],
   "source": [
    "z2=-1+3j\n",
    "z2**(1/2)"
   ]
  },
  {
   "cell_type": "code",
   "execution_count": 16,
   "metadata": {},
   "outputs": [
    {
     "data": {
      "text/plain": [
       "(-14.96022173994443+17.442615274452685j)"
      ]
     },
     "execution_count": 16,
     "metadata": {},
     "output_type": "execute_result"
    }
   ],
   "source": [
    "z1**3+z2**(1/2)"
   ]
  },
  {
   "cell_type": "code",
   "execution_count": null,
   "metadata": {},
   "outputs": [],
   "source": []
  }
 ],
 "metadata": {
  "kernelspec": {
   "display_name": "Python 3",
   "language": "python",
   "name": "python3"
  },
  "language_info": {
   "codemirror_mode": {
    "name": "ipython",
    "version": 3
   },
   "file_extension": ".py",
   "mimetype": "text/x-python",
   "name": "python",
   "nbconvert_exporter": "python",
   "pygments_lexer": "ipython3",
   "version": "3.7.8"
  }
 },
 "nbformat": 4,
 "nbformat_minor": 4
}
